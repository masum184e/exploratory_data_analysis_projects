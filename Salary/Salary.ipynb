{
 "cells": [
  {
   "cell_type": "code",
   "execution_count": null,
   "id": "6bb265b9-1b94-4bfa-bc82-e3b8c4cd7906",
   "metadata": {},
   "outputs": [],
   "source": [
    "import pandas as pd\n",
    "import matplotlib.pyplot as plt\n",
    "import numpy as np"
   ]
  },
  {
   "cell_type": "markdown",
   "id": "ac768b03",
   "metadata": {},
   "source": [
    "### Reading Dataset"
   ]
  },
  {
   "cell_type": "code",
   "execution_count": null,
   "id": "55c664e1-af87-45b0-ba38-ea8c63c8e872",
   "metadata": {},
   "outputs": [],
   "source": [
    "df=pd.read_csv(\"./data.csv\")"
   ]
  },
  {
   "cell_type": "markdown",
   "id": "966e8560-9f7c-49d3-b262-4db46b352c83",
   "metadata": {},
   "source": [
    "### Quick Information"
   ]
  },
  {
   "cell_type": "code",
   "execution_count": null,
   "id": "d0cac865-42e2-44b3-b763-c9d783077513",
   "metadata": {},
   "outputs": [],
   "source": [
    "print(\"Number of Row   : \"+str(df.shape[0])) \n",
    "print(\"Number of Column: \"+str(df.shape[1])) "
   ]
  },
  {
   "cell_type": "code",
   "execution_count": null,
   "id": "781aa52c-40b7-4f79-a100-681078425238",
   "metadata": {},
   "outputs": [],
   "source": [
    "print(df.info())"
   ]
  },
  {
   "cell_type": "code",
   "execution_count": null,
   "id": "8f2af70a-eb52-4fff-a8a0-a8100efb33a6",
   "metadata": {},
   "outputs": [],
   "source": [
    "print(df.describe())"
   ]
  },
  {
   "cell_type": "markdown",
   "id": "78efa5cf-9e83-4666-927e-7f236d9eabc2",
   "metadata": {},
   "source": [
    "### Sample Data"
   ]
  },
  {
   "cell_type": "code",
   "execution_count": null,
   "id": "9ad9c925-6cc5-4561-8264-949d06a9a10f",
   "metadata": {},
   "outputs": [],
   "source": [
    "print(df.head())"
   ]
  },
  {
   "cell_type": "markdown",
   "id": "470e0090-2293-4202-9472-7289bb57150f",
   "metadata": {},
   "source": [
    "### Correlation Matrix"
   ]
  },
  {
   "cell_type": "code",
   "execution_count": 33,
   "id": "9a326daa-bcc2-452f-82e7-ef4bdc50d186",
   "metadata": {},
   "outputs": [
    {
     "name": "stdout",
     "output_type": "stream",
     "text": [
      "                 YearsExperience    Salary\n",
      "YearsExperience         1.000000  0.978242\n",
      "Salary                  0.978242  1.000000\n"
     ]
    }
   ],
   "source": [
    "# ERROR\n",
    "correlation_matrix = df.corr()\n",
    "print(correlation_matrix)"
   ]
  },
  {
   "cell_type": "markdown",
   "id": "c04f435e-ccef-45bd-aea0-643ffc78bb8c",
   "metadata": {},
   "source": [
    "### Visualization"
   ]
  },
  {
   "cell_type": "markdown",
   "id": "5009ee08-30d0-4bb8-baaf-06578b6295c7",
   "metadata": {},
   "source": [
    "#### The correlation matrix"
   ]
  },
  {
   "cell_type": "code",
   "execution_count": null,
   "id": "255d4987-c082-4357-96a3-a575a0e6c449",
   "metadata": {},
   "outputs": [],
   "source": []
  },
  {
   "cell_type": "markdown",
   "id": "ca348339-f2b7-4428-aece-554bf312cb56",
   "metadata": {},
   "source": [
    "#### Scatter plot of Years of Experience vs Salary"
   ]
  },
  {
   "cell_type": "code",
   "execution_count": null,
   "id": "ac487e26-d87f-4891-ae9a-9250124410e7",
   "metadata": {},
   "outputs": [],
   "source": [
    "plt.scatter(df['YearsExperience'],df['Salary'])\n",
    "plt.title('Years of Experience vs. Salary')\n",
    "plt.xlabel('Years of Experience')\n",
    "plt.ylabel('Salary')\n",
    "plt.show()"
   ]
  },
  {
   "cell_type": "markdown",
   "id": "bebdb957-62da-47d6-afa4-51ffc47bef5e",
   "metadata": {},
   "source": [
    "#### Histogram of Years of Experience"
   ]
  },
  {
   "cell_type": "code",
   "execution_count": null,
   "id": "fb79a8a7-02c2-4b57-8372-642588b940e0",
   "metadata": {},
   "outputs": [],
   "source": [
    "# ERROR\n",
    "plt.hist(df['YearsExperience'])\n",
    "plt.title('Distribution of Years of Experience')\n",
    "plt.xlabel('Years of Experience')\n",
    "plt.ylabel('Frequency')\n",
    "plt.show()"
   ]
  },
  {
   "cell_type": "markdown",
   "id": "17348efc-85a3-46e4-87b4-c755776b96f9",
   "metadata": {},
   "source": [
    "### Histogram of Years of Experience"
   ]
  },
  {
   "cell_type": "code",
   "execution_count": null,
   "id": "e20aa1a2-e291-45e1-afd2-9dce91ae5143",
   "metadata": {},
   "outputs": [],
   "source": [
    "# ERROR\n",
    "plt.hist(df['Salary'])\n",
    "plt.title('Distribution of Years of Experience')\n",
    "plt.xlabel('Years of Experience')\n",
    "plt.ylabel('Frequency')\n",
    "plt.show()"
   ]
  }
 ],
 "metadata": {
  "kernelspec": {
   "display_name": "venv",
   "language": "python",
   "name": "venv"
  },
  "language_info": {
   "codemirror_mode": {
    "name": "ipython",
    "version": 3
   },
   "file_extension": ".py",
   "mimetype": "text/x-python",
   "name": "python",
   "nbconvert_exporter": "python",
   "pygments_lexer": "ipython3",
   "version": "3.11.4"
  }
 },
 "nbformat": 4,
 "nbformat_minor": 5
}
